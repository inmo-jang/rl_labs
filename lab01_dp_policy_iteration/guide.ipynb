{
 "cells": [
  {
   "cell_type": "markdown",
   "metadata": {},
   "source": [
    "### A Guide for Lab 01 Policy Iteration "
   ]
  },
  {
   "cell_type": "markdown",
   "metadata": {},
   "source": [
    "#### Import Dependencies"
   ]
  },
  {
   "cell_type": "code",
   "execution_count": 1,
   "metadata": {},
   "outputs": [
    {
     "name": "stdout",
     "output_type": "stream",
     "text": [
      "pygame 2.6.0 (SDL 2.28.4, Python 3.12.5)\n",
      "Hello from the pygame community. https://www.pygame.org/contribute.html\n"
     ]
    }
   ],
   "source": [
    "%matplotlib inline \n",
    "import sys, os\n",
    "import numpy as np\n",
    "import matplotlib.pyplot as plt\n",
    "module_path = os.path.abspath(os.path.join('..'))\n",
    "if module_path not in sys.path:\n",
    "    sys.path.append(module_path)\n",
    "from gyms.simple_maze_grid import SimpleMazeGrid"
   ]
  },
  {
   "cell_type": "markdown",
   "metadata": {},
   "source": [
    "#### Basic Usages of the gym"
   ]
  },
  {
   "cell_type": "markdown",
   "metadata": {},
   "source": [
    "##### Gym Instansiation"
   ]
  },
  {
   "cell_type": "code",
   "execution_count": 2,
   "metadata": {},
   "outputs": [],
   "source": [
    "n = 5 # num of grid size\n",
    "k = 3 # goal pose range from 0 index\n",
    "m = 4 # num of pits\n",
    "\n",
    "env = SimpleMazeGrid(n=n, k=k, m=m, render_option=True, random_seed=42)\n"
   ]
  },
  {
   "cell_type": "markdown",
   "metadata": {},
   "source": [
    "##### Get all states\n",
    "\n",
    "- agent가 위치할 수 있는 pos index 전체 list를 나열함"
   ]
  },
  {
   "cell_type": "code",
   "execution_count": 3,
   "metadata": {},
   "outputs": [
    {
     "data": {
      "text/plain": [
       "[[0, 0],\n",
       " [0, 1],\n",
       " [0, 2],\n",
       " [0, 3],\n",
       " [0, 4],\n",
       " [1, 0],\n",
       " [1, 1],\n",
       " [1, 2],\n",
       " [1, 3],\n",
       " [1, 4],\n",
       " [2, 0],\n",
       " [2, 1],\n",
       " [2, 2],\n",
       " [2, 3],\n",
       " [2, 4],\n",
       " [3, 0],\n",
       " [3, 1],\n",
       " [3, 2],\n",
       " [3, 3],\n",
       " [3, 4],\n",
       " [4, 0],\n",
       " [4, 1],\n",
       " [4, 2],\n",
       " [4, 3],\n",
       " [4, 4]]"
      ]
     },
     "execution_count": 3,
     "metadata": {},
     "output_type": "execute_result"
    }
   ],
   "source": [
    "env.get_all_states()"
   ]
  },
  {
   "cell_type": "markdown",
   "metadata": {},
   "source": [
    "##### Get the current state observation\n",
    "\n",
    "- 현재 상황을 표시함\n",
    "- 0: 그냥 빈칸\n",
    "- 1: agent가 위치한 곳\n",
    "- 2: goal\n",
    "- 3: pits"
   ]
  },
  {
   "cell_type": "code",
   "execution_count": 4,
   "metadata": {},
   "outputs": [
    {
     "data": {
      "text/plain": [
       "array([[1., 0., 0., 0., 3.],\n",
       "       [0., 3., 0., 0., 0.],\n",
       "       [0., 3., 0., 0., 0.],\n",
       "       [3., 0., 0., 2., 0.],\n",
       "       [0., 0., 0., 0., 0.]])"
      ]
     },
     "execution_count": 4,
     "metadata": {},
     "output_type": "execute_result"
    }
   ],
   "source": [
    "env._get_state()"
   ]
  },
  {
   "cell_type": "markdown",
   "metadata": {},
   "source": [
    "##### Set the agent position to any pose\n",
    "\n",
    "- agent의 position을 원하는 곳에 위치시킴\n"
   ]
  },
  {
   "cell_type": "code",
   "execution_count": 5,
   "metadata": {},
   "outputs": [
    {
     "data": {
      "text/plain": [
       "array([[0., 0., 0., 0., 3.],\n",
       "       [0., 3., 0., 0., 0.],\n",
       "       [0., 3., 1., 0., 0.],\n",
       "       [3., 0., 0., 2., 0.],\n",
       "       [0., 0., 0., 0., 0.]])"
      ]
     },
     "execution_count": 5,
     "metadata": {},
     "output_type": "execute_result"
    }
   ],
   "source": [
    "player_pos = [2,2]\n",
    "env.set_player_pos(player_pos)\n",
    "env._get_state()"
   ]
  },
  {
   "cell_type": "markdown",
   "metadata": {},
   "source": [
    "##### Do a simulated action\n",
    "\n",
    "- agent의 position을 원하는 곳에 위치시키고, 거기에서 원하는 action을 취함\n"
   ]
  },
  {
   "cell_type": "code",
   "execution_count": 20,
   "metadata": {},
   "outputs": [
    {
     "name": "stdout",
     "output_type": "stream",
     "text": [
      "next_state = [[0. 0. 0. 0. 3.]\n",
      " [0. 3. 0. 0. 0.]\n",
      " [0. 3. 0. 0. 0.]\n",
      " [3. 0. 0. 2. 0.]\n",
      " [0. 0. 0. 0. 0.]]\n",
      "reward = -10\n",
      "terminated = True\n"
     ]
    }
   ],
   "source": [
    "player_pos = [0,1]\n",
    "action = 1\n",
    "next_state, reward, terminated = env.simulate_action(player_pos, action)\n",
    "print(f\"next_state = {next_state}\")\n",
    "print(f\"reward = {reward}\")\n",
    "print(f\"terminated = {terminated}\")"
   ]
  },
  {
   "cell_type": "markdown",
   "metadata": {},
   "source": [
    "출력은 다음과 같음. \n",
    "\n",
    "단, \n",
    "- agent가 함정이나, goal에 빠진 경우, agent의 위치가 state상으로는 보이지 않음. \n",
    "- 위와 같이 실행해도 state는 바뀜. 따라서 다음에 player_pos가 원하는 곳에 제대로 위치했는지 주의할 것. "
   ]
  },
  {
   "cell_type": "code",
   "execution_count": 9,
   "metadata": {},
   "outputs": [
    {
     "data": {
      "text/plain": [
       "array([[0., 0., 0., 0., 3.],\n",
       "       [0., 3., 0., 0., 0.],\n",
       "       [0., 3., 0., 0., 0.],\n",
       "       [3., 0., 0., 2., 0.],\n",
       "       [0., 0., 0., 0., 0.]])"
      ]
     },
     "execution_count": 9,
     "metadata": {},
     "output_type": "execute_result"
    }
   ],
   "source": [
    "env._get_state()"
   ]
  },
  {
   "cell_type": "markdown",
   "metadata": {},
   "source": [
    "##### Render the current state"
   ]
  },
  {
   "cell_type": "code",
   "execution_count": 7,
   "metadata": {},
   "outputs": [],
   "source": [
    "# env.render()"
   ]
  },
  {
   "cell_type": "markdown",
   "metadata": {},
   "source": [
    "##### Get the index for a state\n",
    "- state가 주어졌을 때, 해당 state의 index가 무엇인지 표기"
   ]
  },
  {
   "cell_type": "code",
   "execution_count": 10,
   "metadata": {},
   "outputs": [],
   "source": [
    "def state_to_index(state, n):\n",
    "    player_pos = np.argwhere(state == 1)\n",
    "    if player_pos.size == 0:\n",
    "        return None\n",
    "    row, col = player_pos[0]\n",
    "    return row * n + col"
   ]
  },
  {
   "cell_type": "code",
   "execution_count": 12,
   "metadata": {},
   "outputs": [
    {
     "name": "stdout",
     "output_type": "stream",
     "text": [
      "[[0. 0. 0. 0. 3.]\n",
      " [0. 3. 0. 0. 0.]\n",
      " [0. 3. 0. 0. 0.]\n",
      " [3. 0. 0. 2. 0.]\n",
      " [0. 0. 0. 0. 0.]]\n"
     ]
    }
   ],
   "source": [
    "state = env._get_state()\n",
    "print(state)"
   ]
  },
  {
   "cell_type": "code",
   "execution_count": 13,
   "metadata": {},
   "outputs": [
    {
     "name": "stdout",
     "output_type": "stream",
     "text": [
      "None\n"
     ]
    }
   ],
   "source": [
    "state_idx = state_to_index(state, env.n)\n",
    "print(state_idx)"
   ]
  },
  {
   "cell_type": "markdown",
   "metadata": {},
   "source": [
    "Game이 terminated 된 상태(함정에 빠지거나, 골에 도착하거나)면 `None` 출력"
   ]
  },
  {
   "cell_type": "code",
   "execution_count": 16,
   "metadata": {},
   "outputs": [
    {
     "name": "stdout",
     "output_type": "stream",
     "text": [
      "state = [[0. 1. 0. 0. 3.]\n",
      " [0. 3. 0. 0. 0.]\n",
      " [0. 3. 0. 0. 0.]\n",
      " [3. 0. 0. 2. 0.]\n",
      " [0. 0. 0. 0. 0.]]\n",
      "state_idx = 1\n"
     ]
    }
   ],
   "source": [
    "player_pos = [0,0]\n",
    "env.set_player_pos(player_pos)\n",
    "state = env._get_state()\n",
    "print(f\"state = {state}\")\n",
    "state_idx = state_to_index(state, env.n)\n",
    "print(f\"state_idx = {state_idx}\")"
   ]
  },
  {
   "cell_type": "code",
   "execution_count": 18,
   "metadata": {},
   "outputs": [
    {
     "name": "stdout",
     "output_type": "stream",
     "text": [
      "state = [[0. 0. 0. 1. 3.]\n",
      " [0. 3. 0. 0. 0.]\n",
      " [0. 3. 0. 0. 0.]\n",
      " [3. 0. 0. 2. 0.]\n",
      " [0. 0. 0. 0. 0.]]\n",
      "state_idx = 3\n"
     ]
    }
   ],
   "source": [
    "player_pos = [0,3]\n",
    "env.set_player_pos(player_pos)\n",
    "state = env._get_state()\n",
    "print(f\"state = {state}\")\n",
    "state_idx = state_to_index(state, env.n)\n",
    "print(f\"state_idx = {state_idx}\")"
   ]
  },
  {
   "cell_type": "code",
   "execution_count": null,
   "metadata": {},
   "outputs": [],
   "source": []
  }
 ],
 "metadata": {
  "kernelspec": {
   "display_name": "Python 3",
   "language": "python",
   "name": "python3"
  },
  "language_info": {
   "codemirror_mode": {
    "name": "ipython",
    "version": 3
   },
   "file_extension": ".py",
   "mimetype": "text/x-python",
   "name": "python",
   "nbconvert_exporter": "python",
   "pygments_lexer": "ipython3",
   "version": "3.12.5"
  }
 },
 "nbformat": 4,
 "nbformat_minor": 2
}
